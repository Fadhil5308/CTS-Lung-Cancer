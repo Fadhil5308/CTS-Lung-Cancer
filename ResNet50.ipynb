{
 "cells": [
  {
   "cell_type": "code",
   "execution_count": 5,
   "id": "8eb9d7bb",
   "metadata": {},
   "outputs": [],
   "source": [
    "# === Step 1: Import Libraries ===\n",
    "import os\n",
    "import numpy as np\n",
    "import matplotlib.pyplot as plt\n",
    "import tensorflow as tf\n",
    "from tensorflow.keras.preprocessing.image import ImageDataGenerator\n",
    "from tensorflow.keras.applications import ResNet50\n",
    "from tensorflow.keras.applications.resnet50 import preprocess_input\n",
    "from tensorflow.keras.models import Model\n",
    "from tensorflow.keras.layers import Dense, GlobalAveragePooling2D, Dropout\n",
    "from tensorflow.keras.optimizers import Adam\n",
    "from tensorflow.keras.callbacks import EarlyStopping, ReduceLROnPlateau\n",
    "from sklearn.metrics import classification_report, confusion_matrix"
   ]
  },
  {
   "cell_type": "code",
   "execution_count": 6,
   "id": "2a682c54",
   "metadata": {},
   "outputs": [],
   "source": [
    "# === Step 2: Data Paths ===\n",
    "base_dir = 'D:/22.11.5308/SMT 6/Data Mining/Dataset/CT-Scan Lung Cancer'\n",
    "\n",
    "if not os.path.exists(base_dir):\n",
    "    raise FileNotFoundError(f\"Base directory not found: {base_dir}\")"
   ]
  },
  {
   "cell_type": "code",
   "execution_count": 7,
   "id": "7e2918ba",
   "metadata": {},
   "outputs": [
    {
     "name": "stdout",
     "output_type": "stream",
     "text": [
      "Found 2888 images belonging to 3 classes.\n",
      "Found 721 images belonging to 3 classes.\n"
     ]
    }
   ],
   "source": [
    "# === Step 3: Image Preprocessing ===\n",
    "img_size = (224, 224)\n",
    "batch_size = 32\n",
    "\n",
    "train_datagen = ImageDataGenerator(\n",
    "    preprocessing_function=preprocess_input,\n",
    "    rotation_range=10,\n",
    "    zoom_range=0.1,\n",
    "    width_shift_range=0.1,\n",
    "    height_shift_range=0.1,\n",
    "    horizontal_flip=True,\n",
    "    validation_split=0.2\n",
    ")\n",
    "\n",
    "train_generator = train_datagen.flow_from_directory(\n",
    "    base_dir,\n",
    "    target_size=img_size,\n",
    "    batch_size=batch_size,\n",
    "    class_mode='categorical',\n",
    "    subset='training'\n",
    ")\n",
    "\n",
    "valid_generator = train_datagen.flow_from_directory(\n",
    "    base_dir,\n",
    "    target_size=img_size,\n",
    "    batch_size=batch_size,\n",
    "    class_mode='categorical',\n",
    "    subset='validation'\n",
    ")"
   ]
  },
  {
   "cell_type": "code",
   "execution_count": 8,
   "id": "f9d11442",
   "metadata": {},
   "outputs": [],
   "source": [
    "# === Step 4: Load ResNet50 Base ===\n",
    "base_model = ResNet50(weights='imagenet', include_top=False, input_shape=(224, 224, 3))\n",
    "for layer in base_model.layers:\n",
    "    layer.trainable = False"
   ]
  },
  {
   "cell_type": "code",
   "execution_count": 9,
   "id": "46ae7805",
   "metadata": {},
   "outputs": [],
   "source": [
    "# === Step 5: Build Custom Classifier ===\n",
    "x = base_model.output\n",
    "x = GlobalAveragePooling2D()(x)\n",
    "x = Dropout(0.5)(x)\n",
    "x = Dense(128, activation='relu')(x)\n",
    "x = Dropout(0.3)(x)\n",
    "predictions = Dense(train_generator.num_classes, activation='softmax')(x)\n",
    "model = Model(inputs=base_model.input, outputs=predictions)"
   ]
  },
  {
   "cell_type": "code",
   "execution_count": 10,
   "id": "49fe2002",
   "metadata": {},
   "outputs": [],
   "source": [
    "# === Step 6: Compile Model ===\n",
    "model.compile(optimizer=Adam(learning_rate=1e-4),\n",
    "              loss='categorical_crossentropy',\n",
    "              metrics=['accuracy'])"
   ]
  },
  {
   "cell_type": "code",
   "execution_count": 11,
   "id": "35e7111d",
   "metadata": {},
   "outputs": [
    {
     "name": "stdout",
     "output_type": "stream",
     "text": [
      "Epoch 1/15\n",
      "91/91 [==============================] - 164s 2s/step - loss: 1.2313 - accuracy: 0.4598 - val_loss: 0.6995 - val_accuracy: 0.6491 - lr: 1.0000e-04\n",
      "Epoch 2/15\n",
      "91/91 [==============================] - 189s 2s/step - loss: 0.8828 - accuracy: 0.5876 - val_loss: 0.6518 - val_accuracy: 0.6768 - lr: 1.0000e-04\n",
      "Epoch 3/15\n",
      "91/91 [==============================] - 211s 2s/step - loss: 0.7865 - accuracy: 0.6312 - val_loss: 0.6122 - val_accuracy: 0.6685 - lr: 1.0000e-04\n",
      "Epoch 4/15\n",
      "91/91 [==============================] - 181s 2s/step - loss: 0.7276 - accuracy: 0.6485 - val_loss: 0.5671 - val_accuracy: 0.7351 - lr: 1.0000e-04\n",
      "Epoch 5/15\n",
      "91/91 [==============================] - 160s 2s/step - loss: 0.6751 - accuracy: 0.6835 - val_loss: 0.5371 - val_accuracy: 0.7240 - lr: 1.0000e-04\n",
      "Epoch 6/15\n",
      "91/91 [==============================] - 167s 2s/step - loss: 0.6459 - accuracy: 0.6953 - val_loss: 0.5520 - val_accuracy: 0.7101 - lr: 1.0000e-04\n",
      "Epoch 7/15\n",
      "91/91 [==============================] - 160s 2s/step - loss: 0.6248 - accuracy: 0.7081 - val_loss: 0.5234 - val_accuracy: 0.7448 - lr: 1.0000e-04\n",
      "Epoch 8/15\n",
      "91/91 [==============================] - 1729s 19s/step - loss: 0.6134 - accuracy: 0.7095 - val_loss: 0.4968 - val_accuracy: 0.7420 - lr: 1.0000e-04\n",
      "Epoch 9/15\n",
      "91/91 [==============================] - 145s 2s/step - loss: 0.5838 - accuracy: 0.7341 - val_loss: 0.4830 - val_accuracy: 0.7684 - lr: 1.0000e-04\n",
      "Epoch 10/15\n",
      "91/91 [==============================] - 148s 2s/step - loss: 0.5717 - accuracy: 0.7337 - val_loss: 0.4820 - val_accuracy: 0.7656 - lr: 1.0000e-04\n",
      "Epoch 11/15\n",
      "91/91 [==============================] - 151s 2s/step - loss: 0.5407 - accuracy: 0.7545 - val_loss: 0.4994 - val_accuracy: 0.7406 - lr: 1.0000e-04\n",
      "Epoch 12/15\n",
      "91/91 [==============================] - 152s 2s/step - loss: 0.5330 - accuracy: 0.7614 - val_loss: 0.4461 - val_accuracy: 0.7753 - lr: 1.0000e-04\n",
      "Epoch 13/15\n",
      "91/91 [==============================] - 153s 2s/step - loss: 0.5408 - accuracy: 0.7528 - val_loss: 0.4449 - val_accuracy: 0.7601 - lr: 1.0000e-04\n",
      "Epoch 14/15\n",
      "91/91 [==============================] - 155s 2s/step - loss: 0.5417 - accuracy: 0.7538 - val_loss: 0.4360 - val_accuracy: 0.7781 - lr: 1.0000e-04\n",
      "Epoch 15/15\n",
      "91/91 [==============================] - 155s 2s/step - loss: 0.5179 - accuracy: 0.7559 - val_loss: 0.4374 - val_accuracy: 0.7781 - lr: 1.0000e-04\n"
     ]
    }
   ],
   "source": [
    "# === Step 7: Train Model ===\n",
    "earlystop = EarlyStopping(monitor='val_loss', patience=5, restore_best_weights=True)\n",
    "lr_reduce = ReduceLROnPlateau(monitor='val_loss', factor=0.5, patience=3)\n",
    "\n",
    "history = model.fit(\n",
    "    train_generator,\n",
    "    validation_data=valid_generator,\n",
    "    epochs=15,\n",
    "    callbacks=[earlystop, lr_reduce]\n",
    ")"
   ]
  },
  {
   "cell_type": "code",
   "execution_count": 12,
   "id": "3977cd35",
   "metadata": {},
   "outputs": [
    {
     "name": "stdout",
     "output_type": "stream",
     "text": [
      "23/23 [==============================] - 36s 2s/step - loss: 0.4340 - accuracy: 0.7753\n",
      "\n",
      "Validation Accuracy: 0.775312066078186\n"
     ]
    }
   ],
   "source": [
    "# === Step 8: Evaluate Model ===\n",
    "val_loss, val_acc = model.evaluate(valid_generator)\n",
    "print(\"\\nValidation Accuracy:\", val_acc)"
   ]
  },
  {
   "cell_type": "code",
   "execution_count": 13,
   "id": "812fc103",
   "metadata": {},
   "outputs": [
    {
     "name": "stdout",
     "output_type": "stream",
     "text": [
      "23/23 [==============================] - 32s 1s/step\n",
      "\n",
      "Classification Report:\n",
      "                 precision    recall  f1-score   support\n",
      "\n",
      "   Benign cases       0.26      0.10      0.15       240\n",
      "Malignant cases       0.31      0.30      0.31       240\n",
      "   Normal cases       0.32      0.52      0.40       241\n",
      "\n",
      "       accuracy                           0.31       721\n",
      "      macro avg       0.30      0.31      0.29       721\n",
      "   weighted avg       0.30      0.31      0.29       721\n",
      "\n",
      "\n",
      "Confusion Matrix:\n",
      "[[ 25  77 138]\n",
      " [ 40  73 127]\n",
      " [ 31  84 126]]\n"
     ]
    }
   ],
   "source": [
    "# === Step 9: Classification Report ===\n",
    "y_true = valid_generator.classes\n",
    "y_pred = model.predict(valid_generator)\n",
    "y_pred_classes = np.argmax(y_pred, axis=1)\n",
    "\n",
    "print(\"\\nClassification Report:\")\n",
    "print(classification_report(y_true, y_pred_classes, target_names=valid_generator.class_indices.keys()))\n",
    "\n",
    "print(\"\\nConfusion Matrix:\")\n",
    "print(confusion_matrix(y_true, y_pred_classes))"
   ]
  }
 ],
 "metadata": {
  "kernelspec": {
   "display_name": "Python 3",
   "language": "python",
   "name": "python3"
  },
  "language_info": {
   "codemirror_mode": {
    "name": "ipython",
    "version": 3
   },
   "file_extension": ".py",
   "mimetype": "text/x-python",
   "name": "python",
   "nbconvert_exporter": "python",
   "pygments_lexer": "ipython3",
   "version": "3.8.8"
  }
 },
 "nbformat": 4,
 "nbformat_minor": 5
}
