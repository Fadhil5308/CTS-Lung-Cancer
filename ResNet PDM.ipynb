{
 "cells": [
  {
   "cell_type": "code",
   "execution_count": 2,
   "id": "649b02c8",
   "metadata": {},
   "outputs": [],
   "source": [
    "import os\n",
    "import numpy as np\n",
    "from tensorflow.keras.preprocessing.image import ImageDataGenerator\n",
    "from tensorflow.keras.applications.resnet50 import ResNet50, preprocess_input\n",
    "from tensorflow.keras.layers import Dense, GlobalAveragePooling2D\n",
    "from tensorflow.keras.models import Model\n",
    "from tensorflow.keras.optimizers import Adam"
   ]
  },
  {
   "cell_type": "code",
   "execution_count": 3,
   "id": "58850968",
   "metadata": {},
   "outputs": [
    {
     "name": "stdout",
     "output_type": "stream",
     "text": [
      "Found 2888 images belonging to 3 classes.\n",
      "Found 721 images belonging to 3 classes.\n"
     ]
    }
   ],
   "source": [
    "# --- CONFIG ---\n",
    "img_size = 224\n",
    "batch_size = 32\n",
    "epochs = 10\n",
    "learning_rate = 1e-4\n",
    "dataset_path = \"D:/22.11.5308/SMT 6/Data Mining/Dataset/CT-Scan Lung Cancer\"\n",
    "\n",
    "# --- Data Generators ---\n",
    "datagen = ImageDataGenerator(preprocessing_function=preprocess_input, validation_split=0.2)\n",
    "\n",
    "train_gen = datagen.flow_from_directory(\n",
    "    dataset_path,\n",
    "    target_size=(img_size, img_size),\n",
    "    batch_size=batch_size,\n",
    "    class_mode='categorical',\n",
    "    subset='training',\n",
    "    shuffle=True\n",
    ")\n",
    "\n",
    "val_gen = datagen.flow_from_directory(\n",
    "    dataset_path,\n",
    "    target_size=(img_size, img_size),\n",
    "    batch_size=batch_size,\n",
    "    class_mode='categorical',\n",
    "    subset='validation',\n",
    "    shuffle=False\n",
    ")\n",
    "\n",
    "num_classes = len(train_gen.class_indices)"
   ]
  },
  {
   "cell_type": "code",
   "execution_count": 4,
   "id": "eb42c0d5",
   "metadata": {},
   "outputs": [],
   "source": [
    "# --- Model Setup ---\n",
    "base_model = ResNet50(weights='imagenet', include_top=False, input_shape=(img_size, img_size, 3))\n",
    "\n",
    "x = base_model.output\n",
    "x = GlobalAveragePooling2D()(x)\n",
    "x = Dense(512, activation='relu')(x)\n",
    "x = Dense(256, activation='relu')(x)\n",
    "predictions = Dense(num_classes, activation='softmax')(x)\n",
    "\n",
    "model = Model(inputs=base_model.input, outputs=predictions)\n",
    "\n",
    "# Freeze base model layers\n",
    "for layer in base_model.layers:\n",
    "    layer.trainable = False\n",
    "\n",
    "model.compile(optimizer=Adam(learning_rate=learning_rate),\n",
    "              loss='categorical_crossentropy',\n",
    "              metrics=['accuracy'])"
   ]
  },
  {
   "cell_type": "code",
   "execution_count": 5,
   "id": "199bec88",
   "metadata": {},
   "outputs": [
    {
     "name": "stdout",
     "output_type": "stream",
     "text": [
      "Epoch 1/10\n",
      "91/91 [==============================] - 165s 2s/step - loss: 0.5406 - accuracy: 0.7621 - val_loss: 0.5547 - val_accuracy: 0.7420\n",
      "Epoch 2/10\n",
      "91/91 [==============================] - 169s 2s/step - loss: 0.3048 - accuracy: 0.8864 - val_loss: 0.6846 - val_accuracy: 0.7157\n",
      "Epoch 3/10\n",
      "91/91 [==============================] - 155s 2s/step - loss: 0.2108 - accuracy: 0.9318 - val_loss: 0.3538 - val_accuracy: 0.8460\n",
      "Epoch 4/10\n",
      "91/91 [==============================] - 155s 2s/step - loss: 0.1473 - accuracy: 0.9581 - val_loss: 0.4977 - val_accuracy: 0.8211\n",
      "Epoch 5/10\n",
      "91/91 [==============================] - 178s 2s/step - loss: 0.1139 - accuracy: 0.9706 - val_loss: 0.3699 - val_accuracy: 0.8544\n",
      "Epoch 6/10\n",
      "91/91 [==============================] - 165s 2s/step - loss: 0.0884 - accuracy: 0.9820 - val_loss: 0.4517 - val_accuracy: 0.8336\n",
      "Epoch 7/10\n",
      "91/91 [==============================] - 225s 2s/step - loss: 0.0759 - accuracy: 0.9799 - val_loss: 0.2901 - val_accuracy: 0.8932\n",
      "Epoch 8/10\n",
      "91/91 [==============================] - 151s 2s/step - loss: 0.0679 - accuracy: 0.9806 - val_loss: 0.3530 - val_accuracy: 0.8710\n",
      "Epoch 9/10\n",
      "91/91 [==============================] - 165s 2s/step - loss: 0.0426 - accuracy: 0.9934 - val_loss: 0.5240 - val_accuracy: 0.8530\n",
      "Epoch 10/10\n",
      "91/91 [==============================] - 164s 2s/step - loss: 0.0368 - accuracy: 0.9948 - val_loss: 0.4139 - val_accuracy: 0.8779\n"
     ]
    }
   ],
   "source": [
    "# --- Training ---\n",
    "history = model.fit(\n",
    "    train_gen,\n",
    "    validation_data=val_gen,\n",
    "    epochs=epochs\n",
    ")"
   ]
  },
  {
   "cell_type": "code",
   "execution_count": 6,
   "id": "95cd44ca",
   "metadata": {},
   "outputs": [
    {
     "name": "stdout",
     "output_type": "stream",
     "text": [
      "23/23 [==============================] - 32s 1s/step - loss: 0.4139 - accuracy: 0.8779\n",
      "Validation Loss: 0.4139\n",
      "Validation Accuracy: 0.8779\n"
     ]
    }
   ],
   "source": [
    "# --- Evaluation ---\n",
    "loss, accuracy = model.evaluate(val_gen)\n",
    "print(f\"Validation Loss: {loss:.4f}\")\n",
    "print(f\"Validation Accuracy: {accuracy:.4f}\")"
   ]
  }
 ],
 "metadata": {
  "kernelspec": {
   "display_name": "Python 3",
   "language": "python",
   "name": "python3"
  },
  "language_info": {
   "codemirror_mode": {
    "name": "ipython",
    "version": 3
   },
   "file_extension": ".py",
   "mimetype": "text/x-python",
   "name": "python",
   "nbconvert_exporter": "python",
   "pygments_lexer": "ipython3",
   "version": "3.8.8"
  }
 },
 "nbformat": 4,
 "nbformat_minor": 5
}
